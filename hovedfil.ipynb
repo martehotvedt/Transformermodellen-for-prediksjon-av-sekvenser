{
 "cells": [
  {
   "cell_type": "markdown",
   "metadata": {},
   "source": [
    "# Transformermodellen for prediksjon av sekvenser"
   ]
  },
  {
   "cell_type": "markdown",
   "metadata": {},
   "source": [
    "\n",
    "Målet med dette prosjektet er  å forstå hvordan dyp læring (deep learning) fungerer. Mer spesifikt skal vi implementere transformermodellen som er av hovedkomponentene i store språkmodeller som ChatGPT."
   ]
  },
  {
   "cell_type": "markdown",
   "metadata": {},
   "source": [
    "### Oppgave 1.1\n",
    "\n",
    "\n",
    "\n",
    "\n",
    "Ønsker å gi et eksempel på hvordan et datasett {x,y} ser ut for å trene en transformermodell, for å predikere et heltall $d = a \\cdot b + c$.\n",
    "\n",
    "\n",
    "\n",
    "\n",
    "Velger $a = 56, b = 2, c = 72$, og dermed blir $d = a \\cdot b + c = 184$. \n",
    "\n",
    "\n",
    "\n",
    "\n",
    "Har dermed $x = [a_0, a_1, b_0, c_0, c_1, d_0, d_1] = [5, 6, 2, 7, 2, 1, 8]$ og $y = \\textbf{d} = [d_0, d_1, d_2] = [1, 8, 4]$.\n",
    "\n",
    "\n",
    "\n",
    "\n",
    "Modellen gir $\\hat{z} = [\\hat{z_0}, ... , \\hat{z_6}] = f_{\\theta}(x) = f_{\\theta}([5, 6, 2, 7, 2, 1, 8])$.\n",
    "\n",
    "\n",
    "\n",
    "\n",
    "Transformermodellen ønsker å finne $\\theta$ slik at $\\hat{y} = [\\hat{z_4}, \\hat{z_5} , \\hat{z_6}] = [1, 8, 4] = y$.\n",
    "\n",
    "\n",
    "\n",
    "\n"
   ]
  },
  {
   "cell_type": "markdown",
   "metadata": {},
   "source": [
    "### Oppgave 1.2\n",
    "\n",
    "\n",
    "\n",
    "\n",
    "Ønsker å vise hvordan vi kan bruke modellen til $f_{\\theta}$ til å predikere d gitt a, b, c. Vi benytter verdiene fra oppgave 1.1.\n",
    "\n",
    "\n",
    "\n",
    "\n",
    "\\begin{align*}\n",
    "& x^{(0)} = [a_0, a_1, b_0, c_0, c_1] = [5,6,2,7,2] & &[\\hat{z_0}^{(0)}, \\hat{z_1}^{(0)}, \\hat{z_2}^{(0)}, \\hat{z_3}^{(0)}, \\hat{z_4}^{(0)}] = f_\\theta (x^{(0)}) \\\\\n",
    "&x^{(1)}=[5,6,2,7,2,\\hat{z_4}^{(0)}] & &[\\hat{z_0}^{(1)}, \\hat{z_1}^{(1)}, ... , \\hat{z_5}^{(1)}] = f_\\theta (x^{(1)}) \\\\\n",
    "&x^{(2)}=[5,6,2,7,2, \\hat{z_4}^{(0)}, \\hat{z_5}^{(1)}] & &[\\hat{z_0}^{(2)}, ... , \\hat{z_6}^{(2)}] = f_\\theta (x^{(2)}) \\\\\n",
    "& x^{(3)}=[5,6,2,7,2, \\hat{z_4}^{(0)}, \\hat{z_5}^{(1)}, \\hat{z_6}^{(2)}]  & \\\\\n",
    "&\\hat{y} = [\\hat{z_4}^{(0)},\\hat{z_5}^{(1)},\\hat{z_6}^{(2)}] & \\\\\n",
    "\\end{align*}\n",
    "\n",
    "\n",
    "\n",
    "\n",
    "Vi kan dermed sammenlikne $\\hat{y}$ med $c = [0, 9, 7]$ for å se om modellen fungerer.\n",
    "\n",
    "\n",
    "\n",
    "\n"
   ]
  },
  {
   "cell_type": "markdown",
   "metadata": {},
   "source": [
    "### Oppgave 1.3\n",
    "\n",
    "\n",
    "\n",
    "\n",
    "Diskret fordeling som gir objektfunksjon $\\mathcal{L} (\\theta, \\mathcal{D}) = 0$ :\n",
    "\n",
    "\n",
    "\n",
    "\n",
    "$\\hat{y} =\n",
    "\\begin{bmatrix}\n",
    "0 & 0 & 0 & 0\\\\\n",
    "0 & 0 & 0 & 1\\\\\n",
    "0 & 0 & 1 & 0\\\\\n",
    "0 & 1 & 0 & 0\\\\\n",
    "1 & 0 & 0 & 0\\\\\n",
    "\\end{bmatrix}$\n",
    "\n",
    "\n",
    "\n",
    "\n",
    "Som gir $\\hat{y} = y$.\n",
    "\n",
    "\n",
    "\n",
    "\n",
    "Fordi $\\mathcal{L} (\\theta, \\mathcal{D}) = 0$, vil prediksjonen være perfekt.\n",
    "\n",
    "\n",
    "\n",
    "\n"
   ]
  },
  {
   "cell_type": "markdown",
   "metadata": {},
   "source": [
    "### Oppgave 1.4\n",
    "\n",
    "\n",
    "\n",
    "\n",
    "Finner først hvor mange enkeltparamtere hver parametermatrise W har, for så å finne totalt antall parametere.\n",
    "\n",
    "\n",
    "\n",
    "\n",
    "$ W_E:    d \\cdot m $\n",
    "\n",
    "\n",
    "\n",
    "\n",
    "$ W_P:    d \\cdot n_{max} $\n",
    "\n",
    "\n",
    "\n",
    "\n",
    "$ W_U:    d \\cdot m $\n",
    "\n",
    "\n",
    "\n",
    "\n",
    "$\\left. \\begin{array}{r} \n",
    "W_0^{(l)}:    k \\cdot d \\\\\n",
    "W_V^{(l)}:    k \\cdot d \\\\\n",
    "W_Q^{(l)}:    k \\cdot d \\\\\n",
    "W_k^{(l)}:    k \\cdot d \\\\\n",
    "W_1^{(l)}:    k \\cdot d \\\\\n",
    "W_2^{(l)}:    k \\cdot d \\\\\n",
    "\\end{array} \\right\\} \n",
    " \\cdot L $\n",
    "\n",
    "\n",
    "\n",
    "\n",
    "Deretter adderer vi alt for å få totalt antall parametere.\n",
    "\n",
    "\n",
    "\n",
    "Antall parametere = $2 \\cdot d \\cdot m + d \\cdot n_{max} + 2 \\cdot L \\cdot (2 \\cdot k \\cdot d + p \\cdot d )$\n",
    "\n"
   ]
  },
  {
   "cell_type": "markdown",
   "metadata": {},
   "source": [
    "### Oppgave 1.5\n",
    "\n",
    "Vi regner gjennom transformermodellen med alle antagelsene som er gitt, med input $ x = \\begin{bmatrix} 1 \\end{bmatrix} $.\n",
    "\n",
    "$$\n",
    "X = \\text{onehot}(x) = \\text{onehot}([1]) = \n",
    "\\begin{bmatrix} 0 \\\\ 1 \\end{bmatrix}\n",
    "$$\n",
    "\n",
    "$$\n",
    "z_0 = W_E X + [W_P]_{0:1} =\n",
    "\\begin{bmatrix}\n",
    "1 & 0\\\\\n",
    "0 & \\alpha \\\\\n",
    "\\end{bmatrix}\n",
    "\\cdot\n",
    "\\begin{bmatrix}\n",
    "0\\\\\n",
    "1\\\\\n",
    "\\end{bmatrix}\n",
    "+ \n",
    "\\begin{bmatrix}\n",
    "1\\\\\n",
    "0\\\\\n",
    "\\end{bmatrix}\n",
    "=\n",
    "\\begin{bmatrix}\n",
    "0 + 0 \\\\\n",
    "0 + \\alpha \\\\\n",
    "\\end{bmatrix}\n",
    "+\n",
    "\\begin{bmatrix}\n",
    "1\\\\\n",
    "0\\\\\n",
    "\\end{bmatrix}\n",
    "=\n",
    "\\begin{bmatrix}\n",
    "1 \\\\\n",
    "\\alpha \\\\\n",
    "\\end{bmatrix}\n",
    "$$\n",
    "\n",
    "$$\n",
    "z_{\\frac{1}{2}} =\n",
    "\\begin{bmatrix}\n",
    "1 \\\\\n",
    "\\alpha \\\\\n",
    "\\end{bmatrix}\n",
    "+\n",
    "\\begin{bmatrix}\n",
    "1 & 0 \\\\\n",
    "0 & 1 \\\\\n",
    "\\end{bmatrix}\n",
    "\\cdot\n",
    "\\begin{bmatrix}\n",
    "1 & 0 \\\\\n",
    "0 & 1 \\\\\n",
    "\\end{bmatrix}\n",
    "\\cdot\n",
    "\\begin{bmatrix}\n",
    "1 \\\\\n",
    "\\alpha \\\\\n",
    "\\end{bmatrix}\n",
    "\\cdot\n",
    "\\begin{bmatrix}\n",
    "1 \\\\\n",
    "\\end{bmatrix}\n",
    "=\n",
    "\\begin{bmatrix}\n",
    "1 + 1 \\\\\n",
    "\\alpha + \\alpha \\\\\n",
    "\\end{bmatrix}\n",
    "= 2 \\cdot\n",
    "\\begin{bmatrix}\n",
    "1 \\\\\n",
    "\\alpha \\\\\n",
    "\\end{bmatrix}\n",
    "$$\n",
    "\n",
    "$$\n",
    "z_1 = 2 \\cdot\n",
    "\\begin{bmatrix}\n",
    "1 \\\\\n",
    "\\alpha \\\\\n",
    "\\end{bmatrix}\n",
    "+ \n",
    "\\begin{bmatrix}\n",
    "1 & 0 \\\\\n",
    "0 & 1 \\\\\n",
    "\\end{bmatrix}\n",
    "\\sigma \n",
    "\\Bigg(\n",
    "\\begin{bmatrix}\n",
    "1 & 0 \\\\\n",
    "0 & 1 \\\\\n",
    "\\end{bmatrix}\n",
    "\\cdot 2 \n",
    "\\begin{bmatrix}\n",
    "1 \\\\\n",
    "\\alpha \\\\\n",
    "\\end{bmatrix}\n",
    "\\Bigg)\n",
    "= 4 \\cdot \n",
    "\\begin{bmatrix}\n",
    "1 \\\\\n",
    "\\alpha \\\\\n",
    "\\end{bmatrix}\n",
    "$$\n",
    "\n",
    "$$\n",
    "Z = \\text{softmax}_{\\text{col}}\n",
    "\\Bigg(\n",
    "\\begin{bmatrix}\n",
    "1 & 0 \\\\\n",
    "0 & 1 \\\\\n",
    "\\end{bmatrix}\n",
    "\\cdot 4 \n",
    "\\begin{bmatrix}\n",
    "1 \\\\\n",
    "\\alpha \\\\\n",
    "\\end{bmatrix}\n",
    "\\Bigg)\n",
    "= \n",
    "\\begin{bmatrix}\n",
    "\\frac{e^4}{e^4 + e^{4\\alpha}} \\\\\n",
    "\\frac{e^{4\\alpha}}{e^4 + e^{4\\alpha}} \\\\\n",
    "\\end{bmatrix}\n",
    "=\n",
    "\\frac{1}{e^4+e^{4\\alpha}}\n",
    "\\cdot\n",
    "\\begin{bmatrix}\n",
    "e^4 \\\\\n",
    "e^{4\\alpha} \\\\\n",
    "\\end{bmatrix}\n",
    "$$\n",
    "\n",
    "$$\n",
    "\\hat{z} = \\text{argmax}_{\\text{col}}\n",
    "\\Bigg(\n",
    "\\frac{1}{e^4+e^{4\\alpha}}\n",
    "\\cdot\n",
    "\\begin{bmatrix}\n",
    "e^4 \\\\\n",
    "e^{4\\alpha} \\\\\n",
    "\\end{bmatrix}\n",
    "\\Bigg)\n",
    "$$\n",
    "\n",
    "$\n",
    "\\hat{z} = \\text{argmax}_{\\text{col}}(z) =\n",
    "\\begin{bmatrix}\n",
    "1 \\\\\n",
    "\\end{bmatrix}\n",
    "$\n",
    "dersom $ e^{4\\alpha} > e^4 \\Rightarrow \\alpha > 1 $, som var det vi skulle vise.\n"
   ]
  },
  {
   "cell_type": "markdown",
   "metadata": {},
   "source": [
    "### Oppgave 2.1\n",
    "\n",
    "LinearLayer er en underklasse av Layer, og arver dermed alt av funksjoner og parametre som er definert i Layer. På samme måte vil alle de andre klassene som definerer et lag arve fra Layer. \n",
    "\n",
    "Når NeuralNetwork utfører en iterasjon av step_gd() vil den iterere gjennom hvert lag i den initierte listen \"layers\" og sjekke om laget tilhører en av klassene LinearLayer, EmbedPosition, FeedForward eller Attention. Dersom dette er oppfylt, vil det utføres en iterasjon av gradient descent (step_gd()) på laget. Dersom step_gd() ikke er definert i klassen laget tilhører, vil laget benytte funksjonen step_gd() som er definert i klassen Layer. Dersom step_gd() er definert i klassen laget tilhører, vil laget benytte step_gd() som er definert inne i sin egen klasse. \n",
    "\n",
    "Ettersom step_gd() ikke er definert i LinearLayer, vil LinearLayer utføre en iterasjon av gradient descent ved å bruke step_gd() som er definert i Layer."
   ]
  },
  {
   "cell_type": "markdown",
   "metadata": {},
   "source": [
    "## Oppgave 3"
   ]
  },
  {
   "cell_type": "code",
   "execution_count": 2,
   "metadata": {
    "cell_id": "4d16bdf4d53643d18b37fbad27cf2486",
    "deepnote_cell_type": "code",
    "deepnote_to_be_reexecuted": false,
    "execution_millis": 4405,
    "execution_start": 1710329369505,
    "source_hash": null
   },
   "outputs": [],
   "source": [
    "from layers import *\n",
    "from neural_network import NeuralNetwork\n",
    "from utils import onehot\n",
    "import numpy as np\n",
    "from oppgave_3 import *\n",
    "import matplotlib.pyplot as plt\n",
    "from data_generators_corrected import get_train_test_sorting\n",
    "from data_generators_corrected import get_train_test_addition"
   ]
  },
  {
   "cell_type": "markdown",
   "metadata": {
    "cell_id": "74b1d443a01d40e1a63c42032367502b",
    "deepnote_cell_type": "text-cell-h3",
    "formattedRanges": []
   },
   "source": [
    "### Oppgave 3.1"
   ]
  },
  {
   "cell_type": "markdown",
   "metadata": {
    "cell_id": "763362e803a84f1c8fb332eddbdf77fa",
    "deepnote_cell_type": "text-cell-p",
    "formattedRanges": []
   },
   "source": [
    "Tester at lagene vi har implementert fungerer. Koden under er hentet fra den utdelte fila test_implementation.ipynb."
   ]
  },
  {
   "cell_type": "code",
   "execution_count": 2,
   "metadata": {
    "cell_id": "d60240861f2444b4b99b901522a3a5af",
    "deepnote_cell_type": "code",
    "deepnote_to_be_reexecuted": false,
    "execution_millis": 92,
    "execution_start": 1710329373931,
    "source_hash": null
   },
   "outputs": [],
   "source": [
    "#We choose some arbitrary values for the dimensions\n",
    "b = 6\n",
    "n_max = 7\n",
    "m = 8\n",
    "n = 5\n",
    "\n",
    "d = 10\n",
    "k = 5\n",
    "p = 20\n",
    "\n",
    "#Create an arbitrary dataset\n",
    "x = np.random.randint(0, m, (b,n))\n",
    "y = np.random.randint(0, m, (b,n_max))\n",
    "\n",
    "#initialize the layers\n",
    "feed_forward = FeedForward(d,p)\n",
    "attention = Attention(d,k)\n",
    "embed_pos = EmbedPosition(n_max,m,d)\n",
    "un_embed = LinearLayer(d,m)\n",
    "softmax = Softmax()\n",
    "\n",
    "#a manual forward pass\n",
    "X = onehot(x, m)\n",
    "z0 = embed_pos.forward(X)\n",
    "z1 = feed_forward.forward(z0)\n",
    "z2 = attention.forward(z1)\n",
    "z3 = un_embed.forward(z2)\n",
    "Z = softmax.forward(z3) \n",
    "\n",
    "#check the shapes\n",
    "assert X.shape == (b,m,n), f\"X.shape={X.shape}, expected {(b,m,n)}\"\n",
    "assert z0.shape == (b,d,n), f\"z0.shape={z0.shape}, expected {(b,d,n)}\"\n",
    "assert z1.shape == (b,d,n), f\"z1.shape={z1.shape}, expected {(b,d,n)}\"\n",
    "assert z2.shape == (b,d,n), f\"z2.shape={z2.shape}, expected {(b,d,n)}\"\n",
    "assert z3.shape == (b,m,n), f\"z3.shape={z3.shape}, expected {(b,m,n)}\"\n",
    "assert Z.shape == (b,m,n), f\"Z.shape={Z.shape}, expected {(b,m,n)}\"\n",
    "\n",
    "#is X one-hot?\n",
    "assert X.sum() == b*n, f\"X.sum()={X.sum()}, expected {b*n}\"\n",
    "\n",
    "assert np.allclose(Z.sum(axis=1), 1), f\"Z.sum(axis=1)={Z.sum(axis=1)}, expected {np.ones(b)}\"\n",
    "assert np.abs(Z.sum() - b*n) < 1e-5, f\"Z.sum()={Z.sum()}, expected {b*n}\"\n",
    "assert np.all(Z>=0), f\"Z={Z}, expected all entries to be non-negative\"\n"
   ]
  },
  {
   "cell_type": "code",
   "execution_count": 3,
   "metadata": {
    "cell_id": "ae9a3355789843c48b718efaab96dbaa",
    "deepnote_cell_type": "code",
    "deepnote_to_be_reexecuted": false,
    "execution_millis": 280,
    "execution_start": 1710329373935,
    "source_hash": null
   },
   "outputs": [],
   "source": [
    "#test the forward pass\n",
    "x = np.random.randint(0, m, (b,n_max))\n",
    "X = onehot(x, m)\n",
    "\n",
    "#we test with a y that is shorter than the maximum length\n",
    "n_y = n_max - 1\n",
    "y = np.random.randint(0, m, (b,n_y))\n",
    "\n",
    "#initialize a neural network based on the layers above\n",
    "network = NeuralNetwork([embed_pos, feed_forward, attention, un_embed, softmax])\n",
    "#and a loss function\n",
    "loss = CrossEntropy()\n",
    "\n",
    "#do a forward pass\n",
    "Z = network.forward(X)\n",
    "\n",
    "#compute the loss\n",
    "L = loss.forward(Z, y)\n",
    "\n",
    "#get the derivative of the loss wrt Z\n",
    "grad_Z = loss.backward()\n",
    "\n",
    "#and perform a backward pass\n",
    "_ = network.backward(grad_Z)\n",
    "\n",
    "#and and do a gradient descent step\n",
    "_ = network.step_gd(0.01)"
   ]
  },
  {
   "cell_type": "code",
   "execution_count": 4,
   "metadata": {
    "cell_id": "7ba709d473e44bedaee24ddc694a2404",
    "deepnote_cell_type": "code",
    "deepnote_to_be_reexecuted": false,
    "execution_millis": 270,
    "execution_start": 1710329373946,
    "source_hash": null
   },
   "outputs": [],
   "source": [
    "#check if loss is non-negative\n",
    "assert L >= 0, f\"L={L}, expected L>=0\"\n",
    "assert grad_Z.shape == Z.shape, f\"grad_Z.shape={grad_Z.shape}, expected {Z.shape}\"\n",
    "\n",
    "#check if onehot(y) gives zero loss\n",
    "Y = onehot(y, m)\n",
    "L = loss.forward(Y, y)\n",
    "assert L < 1e-5, f\"L={L}, expected L<1e-5\"\n"
   ]
  },
  {
   "cell_type": "markdown",
   "metadata": {
    "cell_id": "f2d157b677c0465a8e2785a5fa89a058",
    "deepnote_app_block_visible": false,
    "deepnote_cell_type": "text-cell-h3",
    "formattedRanges": [],
    "is_collapsed": false
   },
   "source": [
    "### Oppgave 3.3"
   ]
  },
  {
   "cell_type": "markdown",
   "metadata": {
    "cell_id": "2ca2a39b7427430aa83e4d6d837a063f",
    "deepnote_cell_type": "text-cell-p",
    "formattedRanges": []
   },
   "source": [
    "Benytter treningsalgoritmen som ble implementert i oppgave 3.2 for å løse sorteringsproblemet. Algoritme 4 er implementert i funksjonen trening_av_nevralt_nettverk(), som ligger i fila oppgave_3.py. "
   ]
  },
  {
   "cell_type": "markdown",
   "metadata": {
    "cell_id": "a03f44f477784228bc09dc0c88e2a406",
    "deepnote_cell_type": "text-cell-p",
    "formattedRanges": []
   },
   "source": [
    "Sorterer først sekvenser med 5 siffer, der sifrene er enten 0 eller 1. "
   ]
  },
  {
   "cell_type": "code",
   "execution_count": 5,
   "metadata": {
    "cell_id": "8d823ac82fb6449a81ec9b7304f78eca",
    "deepnote_cell_type": "code",
    "deepnote_to_be_reexecuted": false,
    "execution_millis": 45354,
    "execution_start": 1710329374633,
    "source_hash": null
   },
   "outputs": [
    {
     "data": {
      "image/png": "[encoded data removed]",
      "text/plain": [
       "<Figure size 640x480 with 1 Axes>"
      ]
     },
     "metadata": {},
     "output_type": "display_data"
    }
   ],
   "source": [
    "# definerer konstanter\n",
    "d = 10\n",
    "k = 5\n",
    "p = 15\n",
    "r = 5\n",
    "m = 2\n",
    "n_max = 2*r-1\n",
    "\n",
    "# initialiserer lagene\n",
    "feed_forward1 = FeedForward(d,p)\n",
    "attention1 = Attention(d,k)\n",
    "feed_forward2 = FeedForward(d,p)\n",
    "attention2 = Attention(d,k)\n",
    "embed_pos = EmbedPosition(n_max,m,d)\n",
    "un_embed = LinearLayer(d,m)\n",
    "softmax = Softmax()\n",
    "\n",
    "# henter treningsdata\n",
    "D = get_train_test_sorting(r, m, samples_per_batch=100,n_batches_train=10, n_batches_test=1)\n",
    "x_train = D['x_train']\n",
    "y_train = D['y_train']\n",
    "\n",
    "# initialiserer et nevralt nettverk basert på lagene ovenfor\n",
    "network = NeuralNetwork([embed_pos, feed_forward1, attention1, feed_forward2, attention2, un_embed, softmax])\n",
    "\n",
    "# trener på sortering\n",
    "loss_trening = trening_av_nevralt_nettverk(network, loss, x_train, y_train, m, n_batches=10, n_iter = 300, alpha=0.01, beta1=0.9, beta2=0.999)"
   ]
  },
  {
   "cell_type": "code",
   "execution_count": 6,
   "metadata": {
    "cell_id": "04f28b10935e4e1bbe399ae39598c7a5",
    "deepnote_cell_type": "code",
    "deepnote_to_be_reexecuted": false,
    "execution_millis": 112,
    "execution_start": 1710331969424,
    "source_hash": null
   },
   "outputs": [
    {
     "name": "stdout",
     "output_type": "stream",
     "text": [
      "100.0 % av sekvensene ble sortert riktig.\n"
     ]
    }
   ],
   "source": [
    "resultat_sortering = sorting_data(D, m, network, r)\n",
    "print(f'{resultat_sortering*100} % av sekvensene ble sortert riktig.')"
   ]
  },
  {
   "cell_type": "markdown",
   "metadata": {
    "cell_id": "607ebedd0d7c419c833eeee167af008b",
    "deepnote_cell_type": "text-cell-p",
    "formattedRanges": []
   },
   "source": [
    "Det er kun mulig å generere $2^5 = 32$ sekvenser med lengde $r=5$ med $0$ og $1$. Altså får transformermodellen god øving på disse sekvensene, og det er ikke mulig å teste på nye sekvenser. Det er ikke overraskende at vi får $100$% riktig, da transformermodellen har trent på alle sekvensene som blir testet."
   ]
  },
  {
   "cell_type": "markdown",
   "metadata": {
    "cell_id": "c9603c35eb4f4454a860f80f22fc9a6c",
    "deepnote_cell_type": "text-cell-p",
    "formattedRanges": []
   },
   "source": [
    "Tester så å sortere sekvenser med 7 siffer, der hvert siffer $x_i \\in [0,4]$."
   ]
  },
  {
   "cell_type": "code",
   "execution_count": 36,
   "metadata": {
    "cell_id": "668b51181571422098df2b314ea18272",
    "deepnote_cell_type": "code",
    "deepnote_to_be_reexecuted": false,
    "execution_millis": 68740,
    "execution_start": 1710329420027,
    "source_hash": null
   },
   "outputs": [
    {
     "data": {
      "image/png": "[encoded data removed]",
      "text/plain": [
       "<Figure size 640x480 with 1 Axes>"
      ]
     },
     "metadata": {},
     "output_type": "display_data"
    }
   ],
   "source": [
    "# definerer konstanter\n",
    "d = 20\n",
    "k = 10\n",
    "p = 25\n",
    "r = 7\n",
    "m = 5\n",
    "n_max = 2*r-1\n",
    "\n",
    "\n",
    "# initialiserer lagene\n",
    "feed_forward1 = FeedForward(d,p)\n",
    "attention1 = Attention(d,k)\n",
    "feed_forward2 = FeedForward(d,p)\n",
    "attention2 = Attention(d,k)\n",
    "embed_pos = EmbedPosition(n_max,m,d)\n",
    "un_embed = LinearLayer(d,m)\n",
    "softmax = Softmax()\n",
    "\n",
    "# henter data til sortering\n",
    "B = get_train_test_sorting(r, m, samples_per_batch=250,n_batches_train=10, n_batches_test=1)\n",
    "\n",
    "x_train = B['x_train']\n",
    "y_train = B['y_train']\n",
    "\n",
    "\n",
    "# initialiserer et nevralt nettverk basert på lagene ovenfor \n",
    "network = NeuralNetwork([embed_pos, feed_forward1, attention1, feed_forward2, attention2, un_embed, softmax])\n",
    "\n",
    "# trener transformermodellen\n",
    "loss_trening = trening_av_nevralt_nettverk(network, loss, x_train, y_train, m, n_batches=10, n_iter = 300, alpha=0.01, beta1=0.9, beta2=0.999)"
   ]
  },
  {
   "cell_type": "markdown",
   "metadata": {
    "cell_id": "22822c4a143f49daa4afcdcd473b5be5",
    "deepnote_cell_type": "text-cell-p",
    "formattedRanges": []
   },
   "source": [
    "Som man kan se, vil objektfunksjonen bli lavere og lavere, men kan gjøre noen hopp her og der. Transformermodellen vil prøve å stadig minimere objektfunksjonen. I de tilfellene der det finnes mange ulike sekvenser, vil det være vanskelig for modellen å bli helt presis. Det kan tyde på at modellen i noen tilfeller har litt større vanskeligheter for å predikere enkelte datapunkter, og at det gir store utslag på objektfunksjonen. Modellen fortsetter så å tilpasse seg, og totalt sett minker dermed objektfunksjonen. "
   ]
  },
  {
   "cell_type": "code",
   "execution_count": 37,
   "metadata": {
    "cell_id": "69e4037eb8214906b5c2157607557a4f",
    "deepnote_cell_type": "code",
    "deepnote_to_be_reexecuted": false,
    "execution_millis": 469,
    "execution_start": 1710332078260,
    "source_hash": null
   },
   "outputs": [
    {
     "name": "stdout",
     "output_type": "stream",
     "text": [
      "100.0 % av sekvensene ble sortert riktig.\n"
     ]
    }
   ],
   "source": [
    "resultat_sortering = sorting_data(B, m, network, r)\n",
    "print(f'{resultat_sortering*100} % av sekvensene ble sortert riktig.')"
   ]
  },
  {
   "cell_type": "markdown",
   "metadata": {},
   "source": [
    "Ettersom verdien til objektfunksjonen $(\\mathcal{L})$ blir veldig lav, er det å forvente at transformermodellen klarer å sortere de aller fleste av sekvensene riktig. Ved flere kjøringer får vi litt ulikt resultat. Noen ganger får vi full uttelling, og andre ganger blir andelen riktig sorterte sekvenser litt lavere, men fortsatt over 90% med de betingelsene som er gitt."
   ]
  },
  {
   "cell_type": "markdown",
   "metadata": {
    "cell_id": "908a452edea24a5eafc43c2f6483f35b",
    "deepnote_app_block_visible": false,
    "deepnote_cell_type": "text-cell-h3",
    "formattedRanges": [],
    "is_collapsed": false
   },
   "source": [
    "### Oppgave 3.4"
   ]
  },
  {
   "cell_type": "markdown",
   "metadata": {
    "cell_id": "26282fd96ec64f8081f3725af802ee37",
    "deepnote_cell_type": "text-cell-p",
    "formattedRanges": []
   },
   "source": [
    "For å trene opp det nevrale nettverket implementeres treningsalgoritmen skrevet i oppgave 3.2. Her brukes den til å predikere summen av to tosifrede tall. "
   ]
  },
  {
   "cell_type": "code",
   "execution_count": 3,
   "metadata": {
    "cell_id": "faabf53e8899480e927a47b6431ec7e3",
    "deepnote_cell_type": "code",
    "deepnote_to_be_reexecuted": true,
    "execution_millis": 1060052,
    "execution_start": 1710272127618,
    "source_hash": null
   },
   "outputs": [
    {
     "data": {
      "image/png": "[encoded data removed]",
      "text/plain": [
       "<Figure size 640x480 with 1 Axes>"
      ]
     },
     "metadata": {},
     "output_type": "display_data"
    }
   ],
   "source": [
    "# definerer konstanter\n",
    "d = 30\n",
    "k = 20\n",
    "p = 40\n",
    "\n",
    "n_digit = 2\n",
    "n_max = 3*n_digit\n",
    "m = 10\n",
    "\n",
    "# initialiserer lagene\n",
    "feed_forward1 = FeedForward(d,p)\n",
    "attention1 = Attention(d,k)\n",
    "feed_forward2 = FeedForward(d,p)\n",
    "attention2 = Attention(d,k)\n",
    "feed_forward3 = FeedForward(d,p)\n",
    "attention3 = Attention(d,k)\n",
    "embed_pos = EmbedPosition(n_max,m,d)\n",
    "un_embed = LinearLayer(d,m)\n",
    "softmax = Softmax()\n",
    "loss = CrossEntropy()\n",
    "\n",
    "# definerer input i treningsdata\n",
    "samples_per_batch = 250\n",
    "n_batches_train = 20\n",
    "n_batches_test = 1\n",
    "\n",
    "# henter treningsdata\n",
    "E = get_train_test_addition(n_digit,samples_per_batch, n_batches_train, n_batches_test)\n",
    "\n",
    "x_train = E['x_train']\n",
    "y_train = E['y_train']\n",
    "\n",
    "# initialiserer et nevralt nettverk basert på lagene definert ovenfor\n",
    "network = NeuralNetwork([embed_pos, feed_forward1, attention1, feed_forward2, attention2, feed_forward3, attention3, un_embed, softmax])\n",
    "\n",
    "# utfører trening av modellen på addisjon\n",
    "loss_trening = trening_av_nevralt_nettverk(network, loss, x_train, y_train, m, n_batches=20, n_iter = 150, alpha=0.01, beta1=0.9, beta2=0.999)"
   ]
  },
  {
   "cell_type": "code",
   "execution_count": 4,
   "metadata": {
    "cell_id": "4817db691011448ab63f0ae37448c3d6",
    "deepnote_cell_type": "code",
    "deepnote_to_be_reexecuted": false,
    "execution_millis": 56,
    "execution_start": 1710332122369,
    "source_hash": null
   },
   "outputs": [
    {
     "name": "stdout",
     "output_type": "stream",
     "text": [
      "For den opprinnelige modellen for addisjonsproblemet ble 100.0 % av datapunkene predikert riktig.\n"
     ]
    }
   ],
   "source": [
    "resultat_addisjon = adding_data(E, m, network, n_digit)\n",
    "print(f'For den opprinnelige modellen for addisjonsproblemet ble {round(resultat_addisjon*100,1)} % av datapunkene predikert riktig.')"
   ]
  },
  {
   "cell_type": "code",
   "execution_count": 8,
   "metadata": {},
   "outputs": [
    {
     "name": "stdout",
     "output_type": "stream",
     "text": [
      "97.0 % av alle de mulige 10 000 tallparene ble predikert riktig.\n"
     ]
    }
   ],
   "source": [
    "Data = alle_tosifrede_tall()\n",
    "\n",
    "resultat_addisjon = adding_data(Data, m, network, n_digit)\n",
    "\n",
    "print(f'{round(resultat_addisjon*100,1)} % av alle de mulige 10 000 tallparene ble predikert riktig.')"
   ]
  },
  {
   "cell_type": "markdown",
   "metadata": {},
   "source": [
    "Også for addisjon blir verdien til objektfunksjonen $(\\mathcal{L})$ veldig lav, og det er ikke uforventet at andelen riktig predikerte løsninger blir såpass høy. Når vi tester \"Data\" (altså alle de 10 000 parene av tosifrede tall), får vi litt lavere andel riktig predikerte løsninger enn når vi tester på test-dataen hentet fra \"E\". Grunnen til dette er at \"Data\" inneholder enda flere sekvenser som modellen ikke har trent på, og det er dermed større sannsynlighet for at modellen gjetter feil på noen av datapunktene. Generelt sett gir det mening at modellen lykkes i de aller fleste tilfellene, og hadde vi innført flere iterasjoner eller datasett i treningen, ville transformermodellen trolig blitt enda bedre."
   ]
  }
 ],
 "metadata": {
  "deepnote_execution_queue": [],
  "deepnote_notebook_id": "7d38c0d71c834226b8578b4847ee8376",
  "deepnote_persisted_session": {
   "createdAt": "2024-03-13T12:30:34.793Z"
  },
  "kernelspec": {
   "display_name": "Python 3 (ipykernel)",
   "language": "python",
   "name": "python3"
  },
  "language_info": {
   "codemirror_mode": {
    "name": "ipython",
    "version": 3
   },
   "file_extension": ".py",
   "mimetype": "text/x-python",
   "name": "python",
   "nbconvert_exporter": "python",
   "pygments_lexer": "ipython3",
   "version": "3.11.5"
  }
 },
 "nbformat": 4,
 "nbformat_minor": 1
}
